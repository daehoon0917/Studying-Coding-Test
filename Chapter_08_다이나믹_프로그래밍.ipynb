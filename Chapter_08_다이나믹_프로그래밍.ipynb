{
  "nbformat": 4,
  "nbformat_minor": 0,
  "metadata": {
    "colab": {
      "name": "Chapter 08 다이나믹 프로그래밍",
      "provenance": [],
      "collapsed_sections": [],
      "authorship_tag": "ABX9TyOFSf6/GvkDC1GA3FUwXeJo",
      "include_colab_link": true
    },
    "kernelspec": {
      "name": "python3",
      "display_name": "Python 3"
    },
    "language_info": {
      "name": "python"
    }
  },
  "cells": [
    {
      "cell_type": "markdown",
      "metadata": {
        "id": "view-in-github",
        "colab_type": "text"
      },
      "source": [
        "<a href=\"https://colab.research.google.com/github/daehoon0917/Studying-Coding-Test/blob/coding/Chapter_08_%EB%8B%A4%EC%9D%B4%EB%82%98%EB%AF%B9_%ED%94%84%EB%A1%9C%EA%B7%B8%EB%9E%98%EB%B0%8D.ipynb\" target=\"_parent\"><img src=\"https://colab.research.google.com/assets/colab-badge.svg\" alt=\"Open In Colab\"/></a>"
      ]
    },
    {
      "cell_type": "markdown",
      "metadata": {
        "id": "GMlwWeLmw8bz"
      },
      "source": [
        "8-1.py 피보나치 함수 소스코드"
      ]
    },
    {
      "cell_type": "code",
      "metadata": {
        "colab": {
          "base_uri": "https://localhost:8080/"
        },
        "id": "4-CmOKxVq8gq",
        "outputId": "97367ea6-9e3b-498b-d833-3211640a90f2"
      },
      "source": [
        "def fibo(x):\n",
        "  if x == 1 or x == 2:\n",
        "    return 1\n",
        "  return fibo(x-1) + fibo(x-2)\n",
        "\n",
        "print(fibo(4))"
      ],
      "execution_count": null,
      "outputs": [
        {
          "output_type": "stream",
          "text": [
            "3\n"
          ],
          "name": "stdout"
        }
      ]
    },
    {
      "cell_type": "markdown",
      "metadata": {
        "id": "71aXx6GNaxKe"
      },
      "source": [
        "8-2.py 피보나치 수열 소스코드(재귀적)"
      ]
    },
    {
      "cell_type": "code",
      "metadata": {
        "colab": {
          "base_uri": "https://localhost:8080/"
        },
        "id": "xnfdQxLbhOx6",
        "outputId": "3e5bc176-abff-4fd1-e043-39ac79a85e2c"
      },
      "source": [
        "d = [0] * 100\n",
        "\n",
        "def fibo(x):\n",
        "  if x == 1 or x == 2:\n",
        "    return 1\n",
        "  if d[x] != 0:\n",
        "    return d[x]\n",
        "  d[x] = fibo(x-1) + fibo(x-2)\n",
        "  return d[x]\n",
        "\n",
        "print(fibo(99))\n",
        "  "
      ],
      "execution_count": 1,
      "outputs": [
        {
          "output_type": "stream",
          "text": [
            "218922995834555169026\n"
          ],
          "name": "stdout"
        }
      ]
    },
    {
      "cell_type": "markdown",
      "metadata": {
        "id": "B63ApDdMiChF"
      },
      "source": [
        "8-3.py 호출되는 함수 확인"
      ]
    },
    {
      "cell_type": "code",
      "metadata": {
        "colab": {
          "base_uri": "https://localhost:8080/"
        },
        "id": "bqdThM3_iKYc",
        "outputId": "b8f1e052-9c6a-43a2-d2ad-6ed3b2fdd4f7"
      },
      "source": [
        "d = [0] * 100\n",
        "\n",
        "def fibo(x):\n",
        "  print('f(' + str(x) + ')',end = ' ')\n",
        "  if x == 1 or x == 2:\n",
        "    return 1\n",
        "  if d[x] != 0:\n",
        "    return d[x]\n",
        "  d[x] = fibo(x-1) + fibo(x-2)\n",
        "  return d[x]\n",
        "\n",
        "fibo(6)"
      ],
      "execution_count": 6,
      "outputs": [
        {
          "output_type": "stream",
          "text": [
            "f(6) f(5) f(4) f(3) f(2) f(1) f(2) f(3) f(4) "
          ],
          "name": "stdout"
        },
        {
          "output_type": "execute_result",
          "data": {
            "text/plain": [
              "8"
            ]
          },
          "metadata": {
            "tags": []
          },
          "execution_count": 6
        }
      ]
    },
    {
      "cell_type": "markdown",
      "metadata": {
        "id": "r5CQ1oTAC694"
      },
      "source": [
        "8-4.py 피보나치 수열 소스코드(반복적)"
      ]
    },
    {
      "cell_type": "code",
      "metadata": {
        "colab": {
          "base_uri": "https://localhost:8080/"
        },
        "id": "UiI-iLaUDpAb",
        "outputId": "e4b3adf3-2943-46d5-f42b-edee1596d517"
      },
      "source": [
        "d = [0] * 100\n",
        "\n",
        "d[1] = 1\n",
        "d[2] = 1\n",
        "n = 99\n",
        "\n",
        "for i in range(3,n+1):\n",
        "  d[i] = d[i-1]+d[i-2]\n",
        "\n",
        "print(d[n])"
      ],
      "execution_count": 7,
      "outputs": [
        {
          "output_type": "stream",
          "text": [
            "218922995834555169026\n"
          ],
          "name": "stdout"
        }
      ]
    },
    {
      "cell_type": "markdown",
      "metadata": {
        "id": "lrIBsmooEVGV"
      },
      "source": [
        "1로 만들기"
      ]
    },
    {
      "cell_type": "code",
      "metadata": {
        "id": "LU4LIcXaEU1g"
      },
      "source": [
        ""
      ],
      "execution_count": null,
      "outputs": []
    },
    {
      "cell_type": "markdown",
      "metadata": {
        "id": "P5QTehcyEZac"
      },
      "source": [
        "개미전사"
      ]
    },
    {
      "cell_type": "code",
      "metadata": {
        "id": "s7ko_BwQEX_r"
      },
      "source": [
        ""
      ],
      "execution_count": null,
      "outputs": []
    },
    {
      "cell_type": "markdown",
      "metadata": {
        "id": "xl17Mwh7Ec4f"
      },
      "source": [
        "바닥 공사"
      ]
    },
    {
      "cell_type": "code",
      "metadata": {
        "id": "RJGH8k8EFjhL"
      },
      "source": [
        ""
      ],
      "execution_count": null,
      "outputs": []
    }
  ]
}