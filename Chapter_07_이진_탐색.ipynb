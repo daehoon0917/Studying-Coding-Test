{
  "nbformat": 4,
  "nbformat_minor": 0,
  "metadata": {
    "colab": {
      "name": "Chapter 07 이진 탐색",
      "provenance": [],
      "authorship_tag": "ABX9TyPYqldppc7M41YExlyyxD65",
      "include_colab_link": true
    },
    "kernelspec": {
      "name": "python3",
      "display_name": "Python 3"
    },
    "language_info": {
      "name": "python"
    }
  },
  "cells": [
    {
      "cell_type": "markdown",
      "metadata": {
        "id": "view-in-github",
        "colab_type": "text"
      },
      "source": [
        "<a href=\"https://colab.research.google.com/github/daehoon0917/Studying-Coding-Test/blob/coding/Chapter_07_%EC%9D%B4%EC%A7%84_%ED%83%90%EC%83%89.ipynb\" target=\"_parent\"><img src=\"https://colab.research.google.com/assets/colab-badge.svg\" alt=\"Open In Colab\"/></a>"
      ]
    },
    {
      "cell_type": "markdown",
      "metadata": {
        "id": "-14io3vM7nee"
      },
      "source": [
        "7-1.py 순차 탐색 소스코드"
      ]
    },
    {
      "cell_type": "code",
      "metadata": {
        "id": "5jhaNwmE7e5Y",
        "colab": {
          "base_uri": "https://localhost:8080/"
        },
        "outputId": "e18eec6a-1067-42c3-ec92-1908b5c50a47"
      },
      "source": [
        "def sequential_search(n,target,array):\n",
        "  for i in range(n):\n",
        "    if array[i] == target:\n",
        "      return i + 1\n",
        "\n",
        "print(\"생성할 원소 개수를 입력한 다음 한 칸 띄고 찾을 문자열을 입력하세요.\")\n",
        "input_data = input().split()\n",
        "n = int(input_data[0])\n",
        "target = input_data[1]\n",
        "\n",
        "print(\"앞서 적은 원소 개수만큼 문자열을 입력하세요. 구분은 띄어쓰기 한 칸 으로 합니다.\")\n",
        "array = input().split()\n",
        "\n",
        "print(sequential_search(n,target,array))"
      ],
      "execution_count": 3,
      "outputs": [
        {
          "output_type": "stream",
          "text": [
            "생성할 원소 개수를 입력한 다음 한 칸 띄고 찾을 문자열을 입력하세요.\n",
            "5 d\n",
            "앞서 적은 원소 개수만큼 문자열을 입력하세요. 구분은 띄어쓰기 한 칸 으로 합니다.\n",
            "h j d t s\n",
            "3\n"
          ],
          "name": "stdout"
        }
      ]
    },
    {
      "cell_type": "markdown",
      "metadata": {
        "id": "xJZU00h7tD8X"
      },
      "source": [
        "7-2.py 재귀 함수로 구현한 이진 탐색 소스코드 "
      ]
    },
    {
      "cell_type": "code",
      "metadata": {
        "colab": {
          "base_uri": "https://localhost:8080/"
        },
        "id": "hulruMEGtSmw",
        "outputId": "1d9e6385-1b23-409b-e9c9-430260c5bba5"
      },
      "source": [
        "def binary_search(array,target,start,end):\n",
        "  if start > end:\n",
        "    return None\n",
        "  mid = (start + end) // 2\n",
        "  if target > array[mid]:\n",
        "    return binary_search(array,target,mid+1,end)\n",
        "  elif target < array[mid]:\n",
        "    return binary_search(array,target,start,mid-1)\n",
        "  else:\n",
        "    return mid\n",
        "\n",
        "n,target = list(map(int,input().split()))\n",
        "array = list(map(int,input().split()))\n",
        "\n",
        "result = int(binary_search(array,target,0,n-1))\n",
        "if result == None:\n",
        "  print(\"원소가 존재하지 않습니다.\")\n",
        "else:\n",
        "  print(result + 1)"
      ],
      "execution_count": 4,
      "outputs": [
        {
          "output_type": "stream",
          "text": [
            "10 7\n",
            "1 3 5 7 9 11 13 15 17 19\n",
            "4\n"
          ],
          "name": "stdout"
        }
      ]
    },
    {
      "cell_type": "code",
      "metadata": {
        "id": "wELVg-8X3oQr"
      },
      "source": [
        "7-3.py 반복문으로 구현한 이진 탐색 소스코드"
      ],
      "execution_count": null,
      "outputs": []
    },
    {
      "cell_type": "code",
      "metadata": {
        "colab": {
          "base_uri": "https://localhost:8080/"
        },
        "id": "22pILppDtSiw",
        "outputId": "078862fa-cc57-4e80-f5b2-bf877f9b3c48"
      },
      "source": [
        "def binary_search(array,target,start,end):\n",
        "  while start <= end:\n",
        "    mid = (start + end) // 2\n",
        "    if array[mid] > target:\n",
        "      end = mid - 1\n",
        "    elif array[mid] < target:\n",
        "      start = mid + 1\n",
        "    else:\n",
        "      return mid\n",
        "\n",
        "n,target = list(map(int,input().split()))\n",
        "array = list(map(int,input().split()))\n",
        "\n",
        "result = binary_search(array,target,0,n-1)\n",
        "if result == None:\n",
        "  print(\"원소가 존재하지 않습니다.\")\n",
        "else:\n",
        "  print(result + 1)\n",
        "\n"
      ],
      "execution_count": 10,
      "outputs": [
        {
          "output_type": "stream",
          "text": [
            "10 7\n",
            "1 3 5 7 9 11 13 15 17 19\n",
            "4\n"
          ],
          "name": "stdout"
        }
      ]
    },
    {
      "cell_type": "markdown",
      "metadata": {
        "id": "NlQldybU3HqN"
      },
      "source": [
        "7-4.py 한 줄 입력받아 출력하는 소스코드"
      ]
    },
    {
      "cell_type": "code",
      "metadata": {
        "colab": {
          "base_uri": "https://localhost:8080/"
        },
        "id": "1KQ4pZpQ3aJj",
        "outputId": "abe26960-204c-4d22-8a98-94109a5b1002"
      },
      "source": [
        "import sys\n",
        "input_data = sys.stdin.readline().rstrip()\n",
        "\n",
        "print(input_data)"
      ],
      "execution_count": 13,
      "outputs": [
        {
          "output_type": "stream",
          "text": [
            "\n"
          ],
          "name": "stdout"
        }
      ]
    },
    {
      "cell_type": "markdown",
      "metadata": {
        "id": "NXXcuOz934DL"
      },
      "source": [
        "실전 문제 부품 찾기"
      ]
    },
    {
      "cell_type": "code",
      "metadata": {
        "id": "siPB2eT_331u"
      },
      "source": [
        ""
      ],
      "execution_count": null,
      "outputs": []
    }
  ]
}